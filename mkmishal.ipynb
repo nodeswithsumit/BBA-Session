{
 "cells": [
  {
   "cell_type": "code",
   "execution_count": null,
   "metadata": {
    "vscode": {
     "languageId": "plaintext"
    }
   },
   "outputs": [],
   "source": [
    "url = 'http://raw.githubusercontent.com/ibm-ice/Data-Exchange/refs/heads/main/FuelConsumptionCo2.csv'\n"
   ]
  },
  {
   "cell_type": "markdown",
   "metadata": {},
   "source": [
    "url = 'http://raw.githubusercontent.com/ibm-ice/Data-Exchange/refs/heads/main/FuelConsumptionCo2.csv'\n",
    "df = pd"
   ]
  }
 ],
 "metadata": {
  "language_info": {
   "name": "python"
  }
 },
 "nbformat": 4,
 "nbformat_minor": 2
}
