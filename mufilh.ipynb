{
 "cells": [
  {
   "cell_type": "markdown",
   "metadata": {},
   "source": [
    "Sklearn Demo "
   ]
  },
  {
   "cell_type": "code",
   "execution_count": 2,
   "metadata": {},
   "outputs": [],
   "source": [
    "import sklearn "
   ]
  },
  {
   "cell_type": "code",
   "execution_count": 3,
   "metadata": {},
   "outputs": [
    {
     "name": "stdout",
     "output_type": "stream",
     "text": [
      "1.6.1\n"
     ]
    }
   ],
   "source": [
    "print(sklearn.__version__)"
   ]
  },
  {
   "cell_type": "code",
   "execution_count": 5,
   "metadata": {},
   "outputs": [
    {
     "name": "stdout",
     "output_type": "stream",
     "text": [
      "['clear_data_home', 'dump_svmlight_file', 'fetch_20newsgroups', 'fetch_20newsgroups_vectorized', 'fetch_file', 'fetch_lfw_pairs', 'fetch_lfw_people', 'fetch_olivetti_faces', 'fetch_species_distributions', 'fetch_california_housing', 'fetch_covtype', 'fetch_rcv1', 'fetch_kddcup99', 'fetch_openml', 'get_data_home', 'load_diabetes', 'load_digits', 'load_files', 'load_iris', 'load_breast_cancer', 'load_linnerud', 'load_sample_image', 'load_sample_images', 'load_svmlight_file', 'load_svmlight_files', 'load_wine', 'make_biclusters', 'make_blobs', 'make_circles', 'make_classification', 'make_checkerboard', 'make_friedman1', 'make_friedman2', 'make_friedman3', 'make_gaussian_quantiles', 'make_hastie_10_2', 'make_low_rank_matrix', 'make_moons', 'make_multilabel_classification', 'make_regression', 'make_s_curve', 'make_sparse_coded_signal', 'make_sparse_spd_matrix', 'make_sparse_uncorrelated', 'make_spd_matrix', 'make_swiss_roll']\n"
     ]
    }
   ],
   "source": [
    "from sklearn import datasets\n",
    "print(datasets.__all__)"
   ]
  },
  {
   "cell_type": "code",
   "execution_count": 9,
   "metadata": {},
   "outputs": [
    {
     "name": "stdout",
     "output_type": "stream",
     "text": [
      "sklearn versio = 1.6.1\n"
     ]
    }
   ],
   "source": [
    "import sklearn \n",
    "print('sklearn versio =',sklearn.__version__)"
   ]
  },
  {
   "cell_type": "code",
   "execution_count": 11,
   "metadata": {},
   "outputs": [
    {
     "data": {
      "text/plain": [
       "63.1578947368421"
      ]
     },
     "execution_count": 11,
     "metadata": {},
     "output_type": "execute_result"
    }
   ],
   "source": [
    "from sklearn import neighbors, datasets, preprocessing\n",
    "from sklearn.model_selection import train_test_split\n",
    "from sklearn.metrics import accuracy_score\n",
    "\n",
    "# loarding the iris data set\n",
    "iris = datasets.load_iris()\n",
    "\n",
    "# selecting the features \n",
    "x, y = iris.data[:,:2], iris.target \n",
    "\n",
    "# splitting the data \n",
    "x_train,x_test,y_train,y_test=train_test_split(x,y,random_state=33)\n",
    "\n",
    "# preprocesing the data\n",
    "scaler = preprocessing.StandardScaler().fit(x_train)\n",
    "x_train = scaler.transform(x_train)\n",
    "x_test = scaler.transform(x_test)\n",
    "\n",
    "# making a model and taking 5 nearest points as k valu \n",
    "knn = neighbors.KNeighborsClassifier(n_neighbors=5)\n",
    "\n",
    "# fitting the model \n",
    "knn.fit(x_train, y_train)\n",
    "\n",
    "#PREDICTIONS\n",
    "y_pred = knn.predict(x_test)\n",
    "\n",
    "# model accuracy]\n",
    "accuracy_score(y_test, y_pred)*100"
   ]
  },
  {
   "cell_type": "code",
   "execution_count": null,
   "metadata": {},
   "outputs": [],
   "source": [
    "def linear_model_generator(x, y, tr_size):\n",
    "    from sklearn.metrics import r2_score, mean_absolute_error , mean_squared_error\n",
    "    from sklearn.model_selection import train_test_split\n",
    "    x_train, x_test, y_train, y_test = train_test_split(x, y,test_size=tr_size,random_state=101)\n",
    "    print('x_train: ', x_train.shape)\n",
    "    print('x_test: ', x_test.shape)\n",
    "\n",
    "    print('-----------Building Model------------')\n",
    "    from sklearn.linear_model import LinearRegression\n",
    "    model=LinearRegression()\n",
    "    model.fit(x_train,x_test)\n",
    "    #fit value for xtest\n",
    "    pred = model.predict(x_train)\n",
    "    print(\"Mean absolute error:.2f\" % mean_absolute_error(pred,y_test))\n",
    "    print(\"Residual sum of squares (MSE): %.2F\" % mean_squared_error(pred,y_test))\n",
    "    print(\"Root Residual sum of squares sum of sqyares (RMSE) : %.2f\" % np.sqrt(mean_squared_error(pred,y_test)))\n",
    "    print(\"R2-score: %.2f\" % r2_score(pred , y_test))"
   ]
  }
 ],
 "metadata": {
  "kernelspec": {
   "display_name": "Python 3",
   "language": "python",
   "name": "python3"
  },
  "language_info": {
   "codemirror_mode": {
    "name": "ipython",
    "version": 3
   },
   "file_extension": ".py",
   "mimetype": "text/x-python",
   "name": "python",
   "nbconvert_exporter": "python",
   "pygments_lexer": "ipython3",
   "version": "3.12.4"
  }
 },
 "nbformat": 4,
 "nbformat_minor": 2
}
